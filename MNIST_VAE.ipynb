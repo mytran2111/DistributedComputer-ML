{
  "nbformat": 4,
  "nbformat_minor": 0,
  "metadata": {
    "kernelspec": {
      "display_name": "Python 3",
      "language": "python",
      "name": "python3"
    },
    "language_info": {
      "codemirror_mode": {
        "name": "ipython",
        "version": 3
      },
      "file_extension": ".py",
      "mimetype": "text/x-python",
      "name": "python",
      "nbconvert_exporter": "python",
      "pygments_lexer": "ipython3",
      "version": "3.7.9"
    },
    "colab": {
      "name": "MNIST-VAE.ipynb",
      "provenance": [],
      "collapsed_sections": []
    },
    "accelerator": "GPU"
  },
  "cells": [
    {
      "cell_type": "markdown",
      "metadata": {
        "id": "ZQtSsUMnvNSK"
      },
      "source": [
        "# Environment Initialization"
      ]
    },
    {
      "cell_type": "code",
      "metadata": {
        "id": "ZndnMhoFdhDa"
      },
      "source": [
        "%%capture\n",
        "!rm -rf /tools/node/*\n",
        "!wget -c https://nodejs.org/dist/v10.20.1/node-v10.20.1-linux-x64.tar.xz\n",
        "!sudo tar --overwrite -xJvf node-v10.20.1-linux-x64.tar.xz\n",
        "!cp -r node-v10.20.1-linux-x64/* /tools/node/ && rm -rf node-v10*\n",
        "!pip install tensorflowjs"
      ],
      "execution_count": null,
      "outputs": []
    },
    {
      "cell_type": "code",
      "metadata": {
        "id": "vZHfzCzuAfxm"
      },
      "source": [
        "%%capture \n",
        "!pip install git+https://github.com/Kings-Distributed-Systems/Bifrost.git"
      ],
      "execution_count": null,
      "outputs": []
    },
    {
      "cell_type": "code",
      "metadata": {
        "id": "BR5SGn-JvDcp"
      },
      "source": [
        "%%capture\n",
        "!git clone https://github.com/Kings-Distributed-Systems/tfjs_util.git\n",
        "!cd tfjs_util && npm i && npm run postinstall"
      ],
      "execution_count": null,
      "outputs": []
    },
    {
      "cell_type": "code",
      "metadata": {
        "id": "QJXQr7vKv9Lq"
      },
      "source": [
        "%%capture\n",
        "import numpy as np\n",
        "import tensorflow as tf\n",
        "from matplotlib import pyplot as plt\n",
        "import tensorflowjs as tfjs\n",
        "from bifrost import node, npm\n",
        "from google.colab import files"
      ],
      "execution_count": null,
      "outputs": []
    },
    {
      "cell_type": "markdown",
      "metadata": {
        "id": "BEM-LUANvFbv"
      },
      "source": [
        "# Training and building VAE\n",
        "\n",
        "Please do not run the following cells.\n"
      ]
    },
    {
      "cell_type": "code",
      "metadata": {
        "id": "h8nEEUpfAfyF",
        "colab": {
          "base_uri": "https://localhost:8080/"
        },
        "outputId": "ce1e88be-ea3f-4c22-f976-b9012811b019"
      },
      "source": [
        "(_xtrain, _ytrain), (_xtest, _ytest) = tf.keras.datasets.mnist.load_data()\n",
        "_xtrain = _xtrain.astype(np.float32) / 255.\n",
        "_xtest  = _xtest.astype(np.float32)  / 255.\n",
        "if len(_xtrain.shape) < 4:\n",
        "    _xtrain = np.expand_dims(_xtrain,-1)\n",
        "    _xtest = np.expand_dims(_xtest,-1)\n",
        "print(_xtrain.min(), _xtrain.max(), _xtrain.dtype, _xtrain.shape)"
      ],
      "execution_count": null,
      "outputs": [
        {
          "output_type": "stream",
          "text": [
            "Downloading data from https://storage.googleapis.com/tensorflow/tf-keras-datasets/mnist.npz\n",
            "Beginning Node Process\n",
            "VM context has been prepared.\n",
            "11493376/11490434 [==============================] - 0s 0us/step\n",
            "0.0 1.0 float32 (60000, 28, 28, 1)\n"
          ],
          "name": "stdout"
        }
      ]
    },
    {
      "cell_type": "code",
      "metadata": {
        "id": "QkBksek7AfyL"
      },
      "source": [
        "class Encoder(tf.keras.Model):\n",
        "    def __init__(self, latent_dims=10):\n",
        "        super(Encoder, self).__init__()\n",
        "        self.latent_dims = latent_dims\n",
        "        self.ls = [\n",
        "            tf.keras.layers.Conv2D(64, [3,3], strides=[1,1], padding='same', activation='relu'),\n",
        "            tf.keras.layers.Conv2D(128,[3,3],strides=[2,2], padding='same', activation='relu'),\n",
        "            tf.keras.layers.Conv2D(256,[3,3],strides=[2,2], padding='same', activation='relu'),\n",
        "            tf.keras.layers.Conv2D(512, [3,3], strides=[2,2], padding='same', activation='relu'),\n",
        "            tf.keras.layers.GlobalAveragePooling2D(),\n",
        "            tf.keras.layers.Dropout(0.25),\n",
        "            tf.keras.layers.Dense(self.latent_dims * 2, activation='linear')\n",
        "        ]\n",
        "    \n",
        "    def call(self, x):\n",
        "        for l in self.ls:\n",
        "            x = l(x)\n",
        "        return x\n",
        "\n",
        "class Reparameterize(tf.keras.layers.Layer):\n",
        "    def __init__(self):\n",
        "        super(Reparameterize, self).__init__()\n",
        "        def sample(args):\n",
        "            z_mean, z_log_var = args\n",
        "            eps = tf.random.truncated_normal(shape=tf.shape(z_mean), mean=0., dtype=z_mean.dtype)\n",
        "            return z_mean + tf.exp(z_log_var) * eps\n",
        "        self.l = tf.keras.layers.Lambda(\n",
        "            sample\n",
        "        )\n",
        "        \n",
        "    def call(self, mean, logvar):\n",
        "        return self.l([mean, logvar])\n",
        "\n",
        "class Decoder(tf.keras.Model):\n",
        "    def __init__(self, latent_dims=10):\n",
        "        super(Decoder, self).__init__()\n",
        "        self.latent_dims = latent_dims\n",
        "        self.ls = [\n",
        "            tf.keras.layers.Dense(self.latent_dims*2, activation='relu'),\n",
        "            tf.keras.layers.Dense(12544, activation='relu'),\n",
        "            tf.keras.layers.Dropout(0.25),\n",
        "            tf.keras.layers.Reshape([7,7,256]),\n",
        "            tf.keras.layers.Conv2DTranspose(256, [1,1], strides=[1,1], padding='same', activation='relu'),\n",
        "            tf.keras.layers.Conv2DTranspose(128, [3,3], strides=[2,2], padding='same', activation='relu'),\n",
        "            tf.keras.layers.Conv2DTranspose(64, [3,3], strides=[2,2], padding='same', activation='relu'),\n",
        "            tf.keras.layers.Conv2DTranspose(1, [3,3], strides=[1,1], padding='same', activation='linear'),\n",
        "        ]\n",
        "    def call(self, x):\n",
        "        for l in self.ls:\n",
        "            x = l(x)\n",
        "        return x\n",
        "        "
      ],
      "execution_count": null,
      "outputs": []
    },
    {
      "cell_type": "code",
      "metadata": {
        "id": "5vF5a9u6AfyY"
      },
      "source": [
        "class VAE(tf.keras.Model):\n",
        "    def __init__(self, latent_dims=10):\n",
        "        super(VAE, self).__init__()\n",
        "        self.latent_dims = latent_dims\n",
        "        self.encoder = Encoder(self.latent_dims)\n",
        "        self.reparameterizer = Reparameterize()\n",
        "        self.decoder = Decoder(self.latent_dims)\n",
        "    \n",
        "    def encode(self, x):\n",
        "        x = self.encoder(x)\n",
        "        mean, logvar = tf.split(x, 2, axis=1)\n",
        "        return mean, logvar\n",
        "    \n",
        "    def decode(self,z):\n",
        "        return self.decoder(z)\n",
        "    \n",
        "    def log_normal_pdf(self,sample, mean, logvar, raxis=1):\n",
        "        log2pi = tf.math.log(2. * np.pi)\n",
        "        return tf.reduce_sum(\n",
        "            -.5 * ((sample-mean) ** 2. * tf.exp(-logvar) + logvar + log2pi),\n",
        "            axis=raxis)\n",
        "    \n",
        "    def vae_loss(self,x_true, x_pred_logit, mean, logvar, z):\n",
        "        cross_ent = tf.nn.sigmoid_cross_entropy_with_logits(logits=x_pred_logit, \n",
        "                                                            labels=x_true)\n",
        "        logpx_z = -tf.reduce_sum(cross_ent, axis=[1,2,3])\n",
        "        logpz = self.log_normal_pdf(z, 0., 0.)\n",
        "        logqz_x = self.log_normal_pdf(z, mean, logvar)\n",
        "        return - tf.reduce_mean(logpx_z + logpz - logqz_x)\n",
        "    \n",
        "    def call(self,x):\n",
        "        mean, logvar = self.encode(x)\n",
        "        z = self.reparameterizer(mean, logvar)\n",
        "        x_logit = self.decode(z)\n",
        "        loss = self.vae_loss(x, x_logit, mean, logvar, z)\n",
        "        self.add_loss(loss, inputs=x)\n",
        "        return x_logit"
      ],
      "execution_count": null,
      "outputs": []
    },
    {
      "cell_type": "code",
      "metadata": {
        "id": "fdJFk29mAfyd",
        "colab": {
          "base_uri": "https://localhost:8080/",
          "height": 35
        },
        "outputId": "5b44db11-7cfd-4588-b5ea-c41d30a1c74a"
      },
      "source": [
        "vae = VAE(512)\n",
        "vae(_xtrain[0:10,...]).shape"
      ],
      "execution_count": null,
      "outputs": [
        {
          "output_type": "execute_result",
          "data": {
            "text/plain": [
              "TensorShape([10, 28, 28, 1])"
            ]
          },
          "metadata": {
            "tags": []
          },
          "execution_count": 7
        }
      ]
    },
    {
      "cell_type": "code",
      "metadata": {
        "id": "AJXnCsTqAfyh",
        "colab": {
          "base_uri": "https://localhost:8080/",
          "height": 267
        },
        "outputId": "931dda94-9022-454f-fe79-c49789ceda5e"
      },
      "source": [
        "vae.compile(optimizer='rmsprop', loss=None)\n",
        "vae.summary()"
      ],
      "execution_count": null,
      "outputs": [
        {
          "output_type": "stream",
          "text": [
            "Model: \"vae\"\n",
            "_________________________________________________________________\n",
            "Layer (type)                 Output Shape              Param #   \n",
            "=================================================================\n",
            "encoder (Encoder)            multiple                  2075136   \n",
            "_________________________________________________________________\n",
            "reparameterize (Reparameteri multiple                  0         \n",
            "_________________________________________________________________\n",
            "decoder (Decoder)            multiple                  13818113  \n",
            "=================================================================\n",
            "Total params: 15,893,249\n",
            "Trainable params: 15,893,249\n",
            "Non-trainable params: 0\n",
            "_________________________________________________________________\n"
          ],
          "name": "stdout"
        }
      ]
    },
    {
      "cell_type": "code",
      "metadata": {
        "id": "spT5Bq-4Afym",
        "colab": {
          "base_uri": "https://localhost:8080/",
          "height": 1000
        },
        "outputId": "32fdf90f-7bdd-4469-e6aa-8acc855e1f7d"
      },
      "source": [
        "_history = vae.fit(_xtrain, \n",
        "                  shuffle=True,\n",
        "                  epochs = 100,\n",
        "                  batch_size=1024,\n",
        "                  validation_data=(_xtest, None),\n",
        "                  callbacks=[tf.keras.callbacks.EarlyStopping(patience=10)])"
      ],
      "execution_count": null,
      "outputs": [
        {
          "output_type": "stream",
          "text": [
            "Epoch 1/100\n",
            "59/59 [==============================] - 42s 716ms/step - loss: 225.0840 - val_loss: 210.9866\n",
            "Epoch 2/100\n",
            "59/59 [==============================] - 39s 665ms/step - loss: 206.8061 - val_loss: 203.7409\n",
            "Epoch 3/100\n",
            "59/59 [==============================] - 39s 664ms/step - loss: 200.3793 - val_loss: 198.3507\n",
            "Epoch 4/100\n",
            "59/59 [==============================] - 39s 663ms/step - loss: 194.9793 - val_loss: 190.4369\n",
            "Epoch 5/100\n",
            "59/59 [==============================] - 39s 662ms/step - loss: 193.0520 - val_loss: 200.5483\n",
            "Epoch 6/100\n",
            "59/59 [==============================] - 39s 663ms/step - loss: 191.6615 - val_loss: 187.6479\n",
            "Epoch 7/100\n",
            "59/59 [==============================] - 39s 663ms/step - loss: 189.3006 - val_loss: 190.9175\n",
            "Epoch 8/100\n",
            "59/59 [==============================] - 39s 663ms/step - loss: 185.1828 - val_loss: 178.4860\n",
            "Epoch 9/100\n",
            "59/59 [==============================] - 39s 664ms/step - loss: 177.8785 - val_loss: 172.9146\n",
            "Epoch 10/100\n",
            "59/59 [==============================] - 39s 663ms/step - loss: 173.1347 - val_loss: 170.8663\n",
            "Epoch 11/100\n",
            "59/59 [==============================] - 39s 664ms/step - loss: 169.7274 - val_loss: 166.1143\n",
            "Epoch 12/100\n",
            "59/59 [==============================] - 39s 664ms/step - loss: 166.3443 - val_loss: 163.4450\n",
            "Epoch 13/100\n",
            "59/59 [==============================] - 39s 664ms/step - loss: 163.4305 - val_loss: 162.5332\n",
            "Epoch 14/100\n",
            "59/59 [==============================] - 39s 663ms/step - loss: 160.9239 - val_loss: 157.7061\n",
            "Epoch 15/100\n",
            "59/59 [==============================] - 39s 663ms/step - loss: 158.2300 - val_loss: 155.8049\n",
            "Epoch 16/100\n",
            "59/59 [==============================] - 39s 663ms/step - loss: 156.3733 - val_loss: 154.3548\n",
            "Epoch 17/100\n",
            "59/59 [==============================] - 39s 663ms/step - loss: 154.9930 - val_loss: 150.5572\n",
            "Epoch 18/100\n",
            "59/59 [==============================] - 39s 663ms/step - loss: 153.4813 - val_loss: 150.2567\n",
            "Epoch 19/100\n",
            "59/59 [==============================] - 39s 663ms/step - loss: 151.9992 - val_loss: 149.9773\n",
            "Epoch 20/100\n",
            "59/59 [==============================] - 39s 663ms/step - loss: 150.6961 - val_loss: 145.5642\n",
            "Epoch 21/100\n",
            "59/59 [==============================] - 39s 663ms/step - loss: 149.0558 - val_loss: 146.6704\n",
            "Epoch 22/100\n",
            "59/59 [==============================] - 39s 664ms/step - loss: 147.9069 - val_loss: 143.5352\n",
            "Epoch 23/100\n",
            "59/59 [==============================] - 39s 662ms/step - loss: 146.6158 - val_loss: 143.8912\n",
            "Epoch 24/100\n",
            "59/59 [==============================] - 39s 662ms/step - loss: 145.2009 - val_loss: 142.3083\n",
            "Epoch 25/100\n",
            "59/59 [==============================] - 39s 663ms/step - loss: 143.1032 - val_loss: 137.9197\n",
            "Epoch 26/100\n",
            "59/59 [==============================] - 39s 663ms/step - loss: 141.2072 - val_loss: 136.5235\n",
            "Epoch 27/100\n",
            "59/59 [==============================] - 39s 662ms/step - loss: 138.5762 - val_loss: 134.0897\n",
            "Epoch 28/100\n",
            "59/59 [==============================] - 39s 662ms/step - loss: 135.4334 - val_loss: 131.3625\n",
            "Epoch 29/100\n",
            "59/59 [==============================] - 39s 663ms/step - loss: 131.9644 - val_loss: 128.1903\n",
            "Epoch 30/100\n",
            "59/59 [==============================] - 39s 662ms/step - loss: 129.3271 - val_loss: 124.9443\n",
            "Epoch 31/100\n",
            "59/59 [==============================] - 39s 663ms/step - loss: 126.9791 - val_loss: 119.8985\n",
            "Epoch 32/100\n",
            "59/59 [==============================] - 39s 663ms/step - loss: 125.1916 - val_loss: 119.8624\n",
            "Epoch 33/100\n",
            "59/59 [==============================] - 39s 662ms/step - loss: 123.6175 - val_loss: 117.4082\n",
            "Epoch 34/100\n",
            "59/59 [==============================] - 39s 662ms/step - loss: 122.4069 - val_loss: 118.4901\n",
            "Epoch 35/100\n",
            "59/59 [==============================] - 39s 662ms/step - loss: 121.2730 - val_loss: 117.7713\n",
            "Epoch 36/100\n",
            "59/59 [==============================] - 39s 663ms/step - loss: 120.2155 - val_loss: 116.8230\n",
            "Epoch 37/100\n",
            "59/59 [==============================] - 39s 663ms/step - loss: 119.2227 - val_loss: 116.1177\n",
            "Epoch 38/100\n",
            "59/59 [==============================] - 39s 664ms/step - loss: 118.1038 - val_loss: 112.9059\n",
            "Epoch 39/100\n",
            "59/59 [==============================] - 39s 664ms/step - loss: 116.9951 - val_loss: 116.6930\n",
            "Epoch 40/100\n",
            "59/59 [==============================] - 39s 664ms/step - loss: 116.0196 - val_loss: 110.9646\n",
            "Epoch 41/100\n",
            "59/59 [==============================] - 39s 664ms/step - loss: 115.1153 - val_loss: 109.7872\n",
            "Epoch 42/100\n",
            "59/59 [==============================] - 39s 662ms/step - loss: 114.2552 - val_loss: 110.2707\n",
            "Epoch 43/100\n",
            "59/59 [==============================] - 39s 663ms/step - loss: 113.3367 - val_loss: 107.4766\n",
            "Epoch 44/100\n",
            "59/59 [==============================] - 39s 662ms/step - loss: 112.6266 - val_loss: 107.4709\n",
            "Epoch 45/100\n",
            "59/59 [==============================] - 39s 662ms/step - loss: 111.9642 - val_loss: 108.6657\n",
            "Epoch 46/100\n",
            "59/59 [==============================] - 39s 662ms/step - loss: 111.3142 - val_loss: 107.2693\n",
            "Epoch 47/100\n",
            "59/59 [==============================] - 39s 661ms/step - loss: 110.5404 - val_loss: 106.3717\n",
            "Epoch 48/100\n",
            "59/59 [==============================] - 39s 661ms/step - loss: 110.1930 - val_loss: 103.9719\n",
            "Epoch 49/100\n",
            "59/59 [==============================] - 39s 661ms/step - loss: 109.5591 - val_loss: 104.7010\n",
            "Epoch 50/100\n",
            "59/59 [==============================] - 39s 662ms/step - loss: 109.0351 - val_loss: 105.8613\n",
            "Epoch 51/100\n",
            "59/59 [==============================] - 39s 661ms/step - loss: 108.6239 - val_loss: 104.8355\n",
            "Epoch 52/100\n",
            "59/59 [==============================] - 39s 662ms/step - loss: 108.2158 - val_loss: 104.9995\n",
            "Epoch 53/100\n",
            "59/59 [==============================] - 39s 661ms/step - loss: 107.6621 - val_loss: 102.9814\n",
            "Epoch 54/100\n",
            "59/59 [==============================] - 39s 661ms/step - loss: 107.2940 - val_loss: 102.8345\n",
            "Epoch 55/100\n",
            "59/59 [==============================] - 39s 659ms/step - loss: 106.8972 - val_loss: 102.4701\n",
            "Epoch 56/100\n",
            "59/59 [==============================] - 39s 659ms/step - loss: 106.3256 - val_loss: 102.2200\n",
            "Epoch 57/100\n",
            "59/59 [==============================] - 39s 660ms/step - loss: 106.0195 - val_loss: 102.3716\n",
            "Epoch 58/100\n",
            "59/59 [==============================] - 39s 660ms/step - loss: 105.7101 - val_loss: 101.5609\n",
            "Epoch 59/100\n",
            "59/59 [==============================] - 39s 661ms/step - loss: 105.3639 - val_loss: 102.2228\n",
            "Epoch 60/100\n",
            "59/59 [==============================] - 39s 660ms/step - loss: 105.0143 - val_loss: 100.9758\n",
            "Epoch 61/100\n",
            "59/59 [==============================] - 39s 659ms/step - loss: 104.6296 - val_loss: 101.0244\n",
            "Epoch 62/100\n",
            "59/59 [==============================] - 39s 658ms/step - loss: 104.2660 - val_loss: 98.8117\n",
            "Epoch 63/100\n",
            "59/59 [==============================] - 39s 658ms/step - loss: 103.8376 - val_loss: 101.3760\n",
            "Epoch 64/100\n",
            "59/59 [==============================] - 39s 657ms/step - loss: 103.5628 - val_loss: 100.5083\n",
            "Epoch 65/100\n",
            "59/59 [==============================] - 39s 658ms/step - loss: 103.1309 - val_loss: 98.4116\n",
            "Epoch 66/100\n",
            "59/59 [==============================] - 39s 659ms/step - loss: 102.7923 - val_loss: 98.2366\n",
            "Epoch 67/100\n",
            "59/59 [==============================] - 39s 658ms/step - loss: 102.4989 - val_loss: 100.0939\n",
            "Epoch 68/100\n",
            "59/59 [==============================] - 39s 658ms/step - loss: 102.3705 - val_loss: 98.5335\n",
            "Epoch 69/100\n",
            "59/59 [==============================] - 39s 658ms/step - loss: 101.9424 - val_loss: 96.7879\n",
            "Epoch 70/100\n",
            "59/59 [==============================] - 39s 658ms/step - loss: 101.7137 - val_loss: 97.3692\n",
            "Epoch 71/100\n",
            "59/59 [==============================] - 39s 658ms/step - loss: 101.5673 - val_loss: 97.0568\n",
            "Epoch 72/100\n",
            "59/59 [==============================] - 39s 658ms/step - loss: 101.3020 - val_loss: 96.7538\n",
            "Epoch 73/100\n",
            "59/59 [==============================] - 39s 657ms/step - loss: 101.1270 - val_loss: 98.1596\n",
            "Epoch 74/100\n",
            "59/59 [==============================] - 39s 658ms/step - loss: 101.1101 - val_loss: 97.1822\n",
            "Epoch 75/100\n",
            "59/59 [==============================] - 39s 658ms/step - loss: 100.7059 - val_loss: 96.6472\n",
            "Epoch 76/100\n",
            "59/59 [==============================] - 39s 659ms/step - loss: 100.6106 - val_loss: 97.2328\n",
            "Epoch 77/100\n",
            "59/59 [==============================] - 39s 658ms/step - loss: 100.5007 - val_loss: 95.7994\n",
            "Epoch 78/100\n",
            "59/59 [==============================] - 39s 658ms/step - loss: 100.1701 - val_loss: 97.1632\n",
            "Epoch 79/100\n",
            "59/59 [==============================] - 39s 659ms/step - loss: 100.1212 - val_loss: 95.6469\n",
            "Epoch 80/100\n",
            "59/59 [==============================] - 39s 659ms/step - loss: 99.7811 - val_loss: 95.1875\n",
            "Epoch 81/100\n",
            "59/59 [==============================] - 39s 659ms/step - loss: 99.7005 - val_loss: 95.0501\n",
            "Epoch 82/100\n",
            "59/59 [==============================] - 39s 659ms/step - loss: 99.3190 - val_loss: 95.3795\n",
            "Epoch 83/100\n",
            "59/59 [==============================] - 39s 659ms/step - loss: 99.3187 - val_loss: 95.1533\n",
            "Epoch 84/100\n",
            "59/59 [==============================] - 39s 658ms/step - loss: 99.0288 - val_loss: 95.4167\n",
            "Epoch 85/100\n",
            "59/59 [==============================] - 39s 658ms/step - loss: 98.9205 - val_loss: 96.0003\n",
            "Epoch 86/100\n",
            "59/59 [==============================] - 39s 657ms/step - loss: 98.7164 - val_loss: 95.5582\n",
            "Epoch 87/100\n",
            "59/59 [==============================] - 39s 658ms/step - loss: 98.7963 - val_loss: 96.3046\n",
            "Epoch 88/100\n",
            "59/59 [==============================] - 39s 658ms/step - loss: 98.4031 - val_loss: 94.0837\n",
            "Epoch 89/100\n",
            "59/59 [==============================] - 39s 659ms/step - loss: 98.4030 - val_loss: 93.8453\n",
            "Epoch 90/100\n",
            "59/59 [==============================] - 39s 659ms/step - loss: 98.2965 - val_loss: 93.4591\n",
            "Epoch 91/100\n",
            "59/59 [==============================] - 39s 659ms/step - loss: 98.0907 - val_loss: 94.8610\n",
            "Epoch 92/100\n",
            "59/59 [==============================] - 39s 658ms/step - loss: 97.9221 - val_loss: 94.0607\n",
            "Epoch 93/100\n",
            "59/59 [==============================] - 39s 658ms/step - loss: 97.9438 - val_loss: 94.3314\n",
            "Epoch 94/100\n",
            "59/59 [==============================] - 39s 658ms/step - loss: 97.8156 - val_loss: 95.1746\n",
            "Epoch 95/100\n",
            "59/59 [==============================] - 39s 658ms/step - loss: 97.7331 - val_loss: 94.1943\n",
            "Epoch 96/100\n",
            "59/59 [==============================] - 39s 659ms/step - loss: 97.4327 - val_loss: 96.4512\n",
            "Epoch 97/100\n",
            "59/59 [==============================] - 39s 659ms/step - loss: 97.4846 - val_loss: 94.1390\n",
            "Epoch 98/100\n",
            "59/59 [==============================] - 39s 658ms/step - loss: 97.3847 - val_loss: 93.2149\n",
            "Epoch 99/100\n",
            "59/59 [==============================] - 39s 658ms/step - loss: 97.2962 - val_loss: 94.1192\n",
            "Epoch 100/100\n",
            "59/59 [==============================] - 39s 659ms/step - loss: 97.2370 - val_loss: 94.2649\n"
          ],
          "name": "stdout"
        }
      ]
    },
    {
      "cell_type": "code",
      "metadata": {
        "id": "XnZ6Ia4mAfyq",
        "colab": {
          "base_uri": "https://localhost:8080/",
          "height": 321
        },
        "outputId": "f7bba0e3-a256-4c28-dac6-90f5f11ee384"
      },
      "source": [
        "print(_history.history)\n",
        "plt.plot(_history.history['loss'])\n",
        "plt.plot(_history.history['val_loss'])"
      ],
      "execution_count": null,
      "outputs": [
        {
          "output_type": "stream",
          "text": [
            "{'loss': [225.08404541015625, 206.80613708496094, 200.37928771972656, 194.97930908203125, 193.052001953125, 191.6615447998047, 189.30059814453125, 185.18280029296875, 177.8784942626953, 173.1346893310547, 169.72743225097656, 166.34425354003906, 163.4304962158203, 160.92393493652344, 158.22996520996094, 156.37327575683594, 154.9929656982422, 153.4812774658203, 151.99916076660156, 150.6960906982422, 149.05577087402344, 147.90689086914062, 146.6157989501953, 145.200927734375, 143.10316467285156, 141.2072296142578, 138.576171875, 135.4333953857422, 131.96441650390625, 129.3271026611328, 126.97906494140625, 125.19161987304688, 123.61746978759766, 122.40687561035156, 121.27300262451172, 120.21553802490234, 119.22267150878906, 118.10382080078125, 116.9951400756836, 116.01962280273438, 115.1153335571289, 114.25518035888672, 113.33673858642578, 112.62662506103516, 111.96416473388672, 111.31419372558594, 110.54039001464844, 110.1929931640625, 109.55914306640625, 109.03507232666016, 108.6239013671875, 108.21575927734375, 107.6621322631836, 107.29398345947266, 106.89716339111328, 106.32562255859375, 106.0195083618164, 105.71014404296875, 105.3638687133789, 105.0142593383789, 104.62958526611328, 104.2660140991211, 103.83763885498047, 103.56283569335938, 103.13089752197266, 102.7922592163086, 102.49894714355469, 102.37052154541016, 101.94239807128906, 101.71373748779297, 101.56725311279297, 101.3020248413086, 101.12703704833984, 101.11009216308594, 100.7059326171875, 100.61061096191406, 100.50068664550781, 100.17008972167969, 100.12117767333984, 99.78113555908203, 99.70045471191406, 99.31903839111328, 99.31867980957031, 99.02884674072266, 98.9205093383789, 98.71642303466797, 98.79627227783203, 98.4030990600586, 98.40303802490234, 98.29650115966797, 98.09068298339844, 97.9221420288086, 97.9438247680664, 97.81560516357422, 97.73307037353516, 97.43274688720703, 97.48455810546875, 97.38468170166016, 97.29615783691406, 97.23697662353516], 'val_loss': [210.986572265625, 203.7408905029297, 198.35069274902344, 190.43692016601562, 200.54830932617188, 187.64791870117188, 190.91746520996094, 178.4860076904297, 172.91461181640625, 170.86630249023438, 166.11428833007812, 163.44503784179688, 162.53317260742188, 157.7061309814453, 155.80490112304688, 154.35476684570312, 150.5572052001953, 150.25668334960938, 149.97732543945312, 145.56417846679688, 146.67044067382812, 143.53524780273438, 143.8911590576172, 142.3082733154297, 137.9197235107422, 136.5235137939453, 134.08966064453125, 131.3625030517578, 128.19033813476562, 124.94432067871094, 119.8985366821289, 119.8624267578125, 117.40816497802734, 118.49009704589844, 117.77125549316406, 116.8230209350586, 116.11772155761719, 112.90589904785156, 116.6929702758789, 110.96461486816406, 109.78724670410156, 110.27070617675781, 107.47662353515625, 107.4709243774414, 108.66572570800781, 107.2693099975586, 106.3716812133789, 103.97188568115234, 104.7010269165039, 105.86134338378906, 104.83552551269531, 104.99952697753906, 102.9814453125, 102.83451080322266, 102.4700698852539, 102.21998596191406, 102.37161254882812, 101.5609359741211, 102.22279357910156, 100.97575378417969, 101.0244369506836, 98.81170654296875, 101.37604522705078, 100.50825500488281, 98.41163635253906, 98.23661804199219, 100.09390258789062, 98.53352355957031, 96.7878646850586, 97.36921691894531, 97.05677795410156, 96.75377655029297, 98.15959167480469, 97.1822280883789, 96.64720153808594, 97.23283386230469, 95.79936218261719, 97.16316223144531, 95.64691925048828, 95.18745422363281, 95.05013275146484, 95.37948608398438, 95.15333557128906, 95.416748046875, 96.00032043457031, 95.55815124511719, 96.30460357666016, 94.08370208740234, 93.84530639648438, 93.45906066894531, 94.86097717285156, 94.06065368652344, 94.33140563964844, 95.17463684082031, 94.19428253173828, 96.4511947631836, 94.13899993896484, 93.2148666381836, 94.11915588378906, 94.26486206054688]}\n"
          ],
          "name": "stdout"
        },
        {
          "output_type": "execute_result",
          "data": {
            "text/plain": [
              "[<matplotlib.lines.Line2D at 0x7fc6a00865f8>]"
            ]
          },
          "metadata": {
            "tags": []
          },
          "execution_count": 10
        },
        {
          "output_type": "display_data",
          "data": {
            "image/png": "[encoded data removed]",
            "text/plain": [
              "<Figure size 432x288 with 1 Axes>"
            ]
          },
          "metadata": {
            "tags": [],
            "needs_background": "light"
          }
        }
      ]
    },
    {
      "cell_type": "code",
      "metadata": {
        "id": "vIur778tAfyv",
        "colab": {
          "base_uri": "https://localhost:8080/",
          "height": 513
        },
        "outputId": "bfda1e3e-f973-4e2a-b1ca-b441752a52de"
      },
      "source": [
        "randInt = np.random.randint(0,_xtest.shape[0])\n",
        "plt.imshow(_xtest[randInt][...,0])\n",
        "plt.show()\n",
        "plt.imshow(tf.nn.sigmoid(vae(_xtest[randInt:randInt+1])).numpy()[0,...,0])\n",
        "plt.show()"
      ],
      "execution_count": null,
      "outputs": [
        {
          "output_type": "display_data",
          "data": {
            "image/png": "[encoded data removed]",
            "text/plain": [
              "<Figure size 432x288 with 1 Axes>"
            ]
          },
          "metadata": {
            "tags": [],
            "needs_background": "light"
          }
        },
        {
          "output_type": "display_data",
          "data": {
            "image/png": "[encoded data removed]",
            "text/plain": [
              "<Figure size 432x288 with 1 Axes>"
            ]
          },
          "metadata": {
            "tags": [],
            "needs_background": "light"
          }
        }
      ]
    },
    {
      "cell_type": "code",
      "metadata": {
        "id": "Joxs5pqtAfyz"
      },
      "source": [
        "vae.save('./vae', save_format='tf')"
      ],
      "execution_count": null,
      "outputs": []
    },
    {
      "cell_type": "code",
      "metadata": {
        "id": "gzznOKunvBlQ"
      },
      "source": [
        "vae.decoder.save('./decoder', save_format='tf')"
      ],
      "execution_count": null,
      "outputs": []
    },
    {
      "cell_type": "code",
      "metadata": {
        "id": "vMwchLmEvK68",
        "colab": {
          "base_uri": "https://localhost:8080/",
          "height": 231
        },
        "outputId": "ace45dc1-1b6f-462d-f186-b2ec0f327c21"
      },
      "source": [
        "!zip -r vae.zip ./vae\n",
        "!zip -r decoder.zip ./decoder"
      ],
      "execution_count": null,
      "outputs": [
        {
          "output_type": "stream",
          "text": [
            "updating: vae/ (stored 0%)\n",
            "updating: vae/assets/ (stored 0%)\n",
            "updating: vae/saved_model.pb (deflated 89%)\n",
            "updating: vae/variables/ (stored 0%)\n",
            "updating: vae/variables/variables.index (deflated 70%)\n",
            "updating: vae/variables/variables.data-00000-of-00001 (deflated 32%)\n",
            "  adding: decoder/ (stored 0%)\n",
            "  adding: decoder/saved_model.pb (deflated 90%)\n",
            "  adding: decoder/variables/ (stored 0%)\n",
            "  adding: decoder/variables/variables.index (deflated 53%)\n",
            "  adding: decoder/variables/variables.data-00000-of-00001 (deflated 7%)\n",
            "  adding: decoder/assets/ (stored 0%)\n"
          ],
          "name": "stdout"
        }
      ]
    },
    {
      "cell_type": "code",
      "metadata": {
        "id": "IiIF7PQ2pC3V",
        "colab": {
          "base_uri": "https://localhost:8080/",
          "height": 52
        },
        "outputId": "c5d6a434-8c29-4836-9ff5-7b678d018f9e"
      },
      "source": [
        "files.download('vae.zip')\n",
        "files.download('decoder.zip')"
      ],
      "execution_count": null,
      "outputs": [
        {
          "output_type": "display_data",
          "data": {
            "application/javascript": [
              "\n",
              "    async function download(id, filename, size) {\n",
              "      if (!google.colab.kernel.accessAllowed) {\n",
              "        return;\n",
              "      }\n",
              "      const div = document.createElement('div');\n",
              "      const label = document.createElement('label');\n",
              "      label.textContent = `Downloading \"${filename}\": `;\n",
              "      div.appendChild(label);\n",
              "      const progress = document.createElement('progress');\n",
              "      progress.max = size;\n",
              "      div.appendChild(progress);\n",
              "      document.body.appendChild(div);\n",
              "\n",
              "      const buffers = [];\n",
              "      let downloaded = 0;\n",
              "\n",
              "      const channel = await google.colab.kernel.comms.open(id);\n",
              "      // Send a message to notify the kernel that we're ready.\n",
              "      channel.send({})\n",
              "\n",
              "      for await (const message of channel.messages) {\n",
              "        // Send a message to notify the kernel that we're ready.\n",
              "        channel.send({})\n",
              "        if (message.buffers) {\n",
              "          for (const buffer of message.buffers) {\n",
              "            buffers.push(buffer);\n",
              "            downloaded += buffer.byteLength;\n",
              "            progress.value = downloaded;\n",
              "          }\n",
              "        }\n",
              "      }\n",
              "      const blob = new Blob(buffers, {type: 'application/binary'});\n",
              "      const a = document.createElement('a');\n",
              "      a.href = window.URL.createObjectURL(blob);\n",
              "      a.download = filename;\n",
              "      div.appendChild(a);\n",
              "      a.click();\n",
              "      div.remove();\n",
              "    }\n",
              "  "
            ],
            "text/plain": [
              "<IPython.core.display.Javascript object>"
            ]
          },
          "metadata": {
            "tags": []
          }
        },
        {
          "output_type": "display_data",
          "data": {
            "application/javascript": [
              "download(\"download_bdaf723b-2566-4eae-be88-4a15385aff93\", \"vae.zip\", 86515176)"
            ],
            "text/plain": [
              "<IPython.core.display.Javascript object>"
            ]
          },
          "metadata": {
            "tags": []
          }
        },
        {
          "output_type": "display_data",
          "data": {
            "application/javascript": [
              "\n",
              "    async function download(id, filename, size) {\n",
              "      if (!google.colab.kernel.accessAllowed) {\n",
              "        return;\n",
              "      }\n",
              "      const div = document.createElement('div');\n",
              "      const label = document.createElement('label');\n",
              "      label.textContent = `Downloading \"${filename}\": `;\n",
              "      div.appendChild(label);\n",
              "      const progress = document.createElement('progress');\n",
              "      progress.max = size;\n",
              "      div.appendChild(progress);\n",
              "      document.body.appendChild(div);\n",
              "\n",
              "      const buffers = [];\n",
              "      let downloaded = 0;\n",
              "\n",
              "      const channel = await google.colab.kernel.comms.open(id);\n",
              "      // Send a message to notify the kernel that we're ready.\n",
              "      channel.send({})\n",
              "\n",
              "      for await (const message of channel.messages) {\n",
              "        // Send a message to notify the kernel that we're ready.\n",
              "        channel.send({})\n",
              "        if (message.buffers) {\n",
              "          for (const buffer of message.buffers) {\n",
              "            buffers.push(buffer);\n",
              "            downloaded += buffer.byteLength;\n",
              "            progress.value = downloaded;\n",
              "          }\n",
              "        }\n",
              "      }\n",
              "      const blob = new Blob(buffers, {type: 'application/binary'});\n",
              "      const a = document.createElement('a');\n",
              "      a.href = window.URL.createObjectURL(blob);\n",
              "      a.download = filename;\n",
              "      div.appendChild(a);\n",
              "      a.click();\n",
              "      div.remove();\n",
              "    }\n",
              "  "
            ],
            "text/plain": [
              "<IPython.core.display.Javascript object>"
            ]
          },
          "metadata": {
            "tags": []
          }
        },
        {
          "output_type": "display_data",
          "data": {
            "application/javascript": [
              "download(\"download_f7e218fc-2f63-47e5-9958-61124b05e24d\", \"decoder.zip\", 51510108)"
            ],
            "text/plain": [
              "<IPython.core.display.Javascript object>"
            ]
          },
          "metadata": {
            "tags": []
          }
        }
      ]
    },
    {
      "cell_type": "markdown",
      "metadata": {
        "id": "p7VLQMrwuqGi"
      },
      "source": [
        "# Download trained decoder\n",
        "\n",
        "We will begin this tutorial here. Everything prior to this point is the training of a variational auto encoder which will allow us to build a decoder which can, given a random tensor of size 512, generate a handwritten number as in MNIST."
      ]
    },
    {
      "cell_type": "code",
      "metadata": {
        "id": "lNSK8F84RGMR",
        "colab": {
          "base_uri": "https://localhost:8080/"
        },
        "outputId": "b1752b16-e81c-4975-f428-047166c9a3c1"
      },
      "source": [
        "!gdown https://drive.google.com/uc?id=1Qoj77Gs-P1uQW20o0N5JBQOpmiy4APTW\n",
        "!unzip ./decoder.zip"
      ],
      "execution_count": null,
      "outputs": [
        {
          "output_type": "stream",
          "text": [
            "Downloading...\n",
            "From: https://drive.google.com/uc?id=1Qoj77Gs-P1uQW20o0N5JBQOpmiy4APTW\n",
            "To: /content/decoder.zip\n",
            "\r0.00B [00:00, ?B/s]\r22.5MB [00:00, 224MB/s]\r48.2MB [00:00, 232MB/s]\r51.5MB [00:00, 241MB/s]\n",
            "Archive:  ./decoder.zip\n",
            "   creating: decoder/\n",
            "  inflating: decoder/saved_model.pb  \n",
            "   creating: decoder/variables/\n",
            "  inflating: decoder/variables/variables.index  \n",
            "  inflating: decoder/variables/variables.data-00000-of-00001  \n",
            "   creating: decoder/assets/\n"
          ],
          "name": "stdout"
        }
      ]
    },
    {
      "cell_type": "code",
      "metadata": {
        "id": "uL12UQkNYXv5"
      },
      "source": [
        "_m = tf.keras.models.load_model('./decoder')"
      ],
      "execution_count": null,
      "outputs": []
    },
    {
      "cell_type": "code",
      "metadata": {
        "id": "MHxYLoQgwD2D",
        "colab": {
          "base_uri": "https://localhost:8080/",
          "height": 265
        },
        "outputId": "a4c93aaf-ab80-4551-b20d-4cf264da2ac4"
      },
      "source": [
        "plt.imshow(tf.nn.sigmoid(_m(tf.random.normal([1,512]))).numpy()[0,...,0])\n",
        "plt.show()"
      ],
      "execution_count": null,
      "outputs": [
        {
          "output_type": "display_data",
          "data": {
            "image/png": "[encoded data removed]",
            "text/plain": [
              "<Figure size 432x288 with 1 Axes>"
            ]
          },
          "metadata": {
            "tags": [],
            "needs_background": "light"
          }
        }
      ]
    },
    {
      "cell_type": "markdown",
      "metadata": {
        "id": "MzsEGAvaverV"
      },
      "source": [
        "## Convert model to TFJS and quantize"
      ]
    },
    {
      "cell_type": "code",
      "metadata": {
        "id": "TUfjFlFdvnfO",
        "colab": {
          "base_uri": "https://localhost:8080/"
        },
        "outputId": "4e03eff9-c359-4789-bc91-8ce768ae37a3"
      },
      "source": [
        "!mkdir -p ./tfjs_model\n",
        "!rm -rf ./tfjs_model/*\n",
        "!tensorflowjs_converter --quantize_uint8=* ./decoder ./tfjs_model &>/dev/null\n",
        "!du -sh ./tfjs_model"
      ],
      "execution_count": null,
      "outputs": [
        {
          "output_type": "stream",
          "text": [
            "14M\t./tfjs_model\n"
          ],
          "name": "stdout"
        }
      ]
    },
    {
      "cell_type": "markdown",
      "metadata": {
        "id": "dulyde7w_Z0W"
      },
      "source": [
        "## Keystore Upload\n",
        "\n",
        "In the next cell, please select the keystores. "
      ]
    },
    {
      "cell_type": "code",
      "metadata": {
        "id": "YtS4-6ZUP7YO",
        "colab": {
          "resources": {
            "http://localhost:8080/nbextensions/google.colab/files.js": {
              "data": "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",
              "ok": true,
              "headers": [
                [
                  "content-type",
                  "application/javascript"
                ]
              ],
              "status": 200,
              "status_text": ""
            }
          },
          "base_uri": "https://localhost:8080/",
          "height": 123
        },
        "outputId": "2fbc296c-49c5-4bdb-e3ad-75987a47bfff"
      },
      "source": [
        "_uploaded = files.upload()\n",
        "print(_uploaded.keys())\n",
        "!mkdir -p ~/.dcp && mv /content/*.keystore ~/.dcp/"
      ],
      "execution_count": null,
      "outputs": [
        {
          "output_type": "display_data",
          "data": {
            "text/html": [
              "\n",
              "     <input type=\"file\" id=\"files-b560d72f-a125-4067-96a9-4fb5e6f70be2\" name=\"files[]\" multiple disabled\n",
              "        style=\"border:none\" />\n",
              "     <output id=\"result-b560d72f-a125-4067-96a9-4fb5e6f70be2\">\n",
              "      Upload widget is only available when the cell has been executed in the\n",
              "      current browser session. Please rerun this cell to enable.\n",
              "      </output>\n",
              "      <script src=\"/nbextensions/google.colab/files.js\"></script> "
            ],
            "text/plain": [
              "<IPython.core.display.HTML object>"
            ]
          },
          "metadata": {
            "tags": []
          }
        },
        {
          "output_type": "stream",
          "text": [
            "Saving default.keystore to default.keystore\n",
            "Saving id.keystore to id.keystore\n",
            "dict_keys(['default.keystore', 'id.keystore'])\n"
          ],
          "name": "stdout"
        }
      ]
    },
    {
      "cell_type": "markdown",
      "metadata": {
        "id": "FIiU_dSwvptE"
      },
      "source": [
        "## Upload model to DCP "
      ]
    },
    {
      "cell_type": "markdown",
      "metadata": {
        "id": "qgCImdB9ezuK"
      },
      "source": [
        "Make sure to rename the module and to change the package version down to 0.0.1\n"
      ]
    },
    {
      "cell_type": "code",
      "metadata": {
        "id": "Y_UqIYviQl0O",
        "colab": {
          "base_uri": "https://localhost:8080/"
        },
        "outputId": "8c2ad34c-8b2c-4a03-e53f-1edc51020c0f"
      },
      "source": [
        "!node /content/tfjs_util/bin/serializeModel.js -m ./tfjs_model/model.json -o mnist_vae_ex/tfjs_decoder.js -p 0.0.7 -d"
      ],
      "execution_count": null,
      "outputs": [
        {
          "output_type": "stream",
          "text": [
            "2020-11-21 18:00:03.597544: I tensorflow/core/platform/cpu_feature_guard.cc:142] Your CPU supports instructions that this TensorFlow binary was not compiled to use: AVX2 FMA\n",
            "2020-11-21 18:00:03.608776: I tensorflow/core/platform/profile_utils/cpu_utils.cc:94] CPU Frequency: 2200000000 Hz\n",
            "2020-11-21 18:00:03.608962: I tensorflow/compiler/xla/service/service.cc:168] XLA service 0x3052e00 initialized for platform Host (this does not guarantee that XLA will be used). Devices:\n",
            "2020-11-21 18:00:03.608990: I tensorflow/compiler/xla/service/service.cc:176]   StreamExecutor device (0): Host, Default Version\n",
            "Module published at :  mnist_vae_ex/tfjs_decoder.js\n",
            "Done!\n"
          ],
          "name": "stdout"
        }
      ]
    },
    {
      "cell_type": "code",
      "metadata": {
        "id": "vEfbPooxAfx6",
        "colab": {
          "base_uri": "https://localhost:8080/"
        },
        "outputId": "183c7df6-fd0e-476a-e520-ca65fd02aa25"
      },
      "source": [
        "SCHEDULER  = 'https://demo-scheduler.distributed.computer'  #@param ['https://demo-scheduler.distributed.computer', \"https://scheduler.distributed.computer\"]\n",
        "numImagesPerWorker = 31 #@param {type:\"slider\", min:10, max:100, step:2}\n",
        "numworkers = 100 #@param {type:\"slider\", min:10, max:100, step:1 }\n",
        "\n",
        "npm.install( 'dcp-client' )"
      ],
      "execution_count": null,
      "outputs": [
        {
          "output_type": "stream",
          "text": [
            "\n",
            "> keccak@3.0.1 install /content/node_modules/keccak\n",
            "> node-gyp-build || exit 0\n",
            "\n",
            "\n",
            "> secp256k1@4.0.2 install /content/node_modules/secp256k1\n",
            "> node-gyp-build || exit 0\n",
            "\n",
            "\n",
            "> dcp-worker@1.1.3 postinstall /content/node_modules/dcp-worker\n",
            "> node generate-native-env-script\n",
            "\n",
            "Wrote native evaluator env file to native-evaluator-env.js\n",
            "+ dcp-client@3.2.6\n",
            "added 548 packages from 427 contributors and audited 728 packages in 16.476s\n",
            "\n",
            "21 packages are looking for funding\n",
            "run `npm fund` for details\n",
            "\n",
            "found 0 vulnerabilities\n",
            "\n"
          ],
          "name": "stdout"
        }
      ]
    },
    {
      "cell_type": "markdown",
      "metadata": {
        "id": "LbQu9pKQv46V"
      },
      "source": [
        "# Perform Distributed Inference"
      ]
    },
    {
      "cell_type": "code",
      "metadata": {
        "id": "4yrvb5FcAfyA",
        "colab": {
          "base_uri": "https://localhost:8080/"
        },
        "outputId": "4b85a056-3232-46c8-f6f8-7e63bcd32fce"
      },
      "source": [
        "%%node\n",
        "\n",
        "process.argv.push('--scheduler', SCHEDULER)\n",
        "require('dcp-client').initSync(process.argv)\n",
        "const compute = require('dcp/compute');\n",
        "const wallet = require('dcp/wallet');\n",
        "const dcpCli = require('dcp/dcp-cli');\n",
        "\n",
        "var accountKeystore;\n",
        "var identityKeystore;\n",
        "\n",
        "(async function(){\n",
        "    identityKeystore = await dcpCli.getIdentityKeystore();\n",
        "    wallet.addId(identityKeystore);\n",
        "    accountKeystore = await dcpCli.getAccountKeystore();\n",
        "    console.log(\"Keystores loaded!\");\n",
        "})();"
      ],
      "execution_count": null,
      "outputs": [
        {
          "output_type": "stream",
          "text": [
            "Keystores loaded!\n"
          ],
          "name": "stdout"
        }
      ]
    },
    {
      "cell_type": "code",
      "metadata": {
        "id": "VQKfJEpVpFxb",
        "colab": {
          "base_uri": "https://localhost:8080/"
        },
        "outputId": "fd9b8135-daf3-41f8-aac2-664e334b273d"
      },
      "source": [
        "%%node\n",
        "var results=[];\n",
        "\n",
        "(async function(){\n",
        "    let batch = numImagesPerWorker;\n",
        "    let numCompute = [...Array(numworkers).keys()];\n",
        "    //#[ 1, 2, 3, 4, 5] //worker 1 would get 1, worker 2 would get 2, wou\n",
        "    //#Main worker function which computes some handwritten digit batch number of times\n",
        "    let job = compute.for(numCompute,async function(id, batch){\n",
        "        progress();\n",
        "        const tf = require('tfjs');\n",
        "        tf.setBackend('cpu');\n",
        "        await tf.ready();\n",
        "        progress();\n",
        "        const { getModel } = require('tfjs_decoder');\n",
        "        progress();\n",
        "        let model = await getModel();\n",
        "        let mean = (Math.random() * 10) - 5;\n",
        "        let std  = (Math.random() * 5);\n",
        "        let input_tensor = tf.randomNormal([batch, 512], mean, std, dtype='float32');\n",
        "        progress();\n",
        "        let out = model.predict(input_tensor);\n",
        "        progress();\n",
        "        out = tf.sigmoid(out); //#[ 0-1 ]\n",
        "        let outTA = out.dataSync();\n",
        "        progress();\n",
        "        out.dispose();\n",
        "        input_tensor.dispose();\n",
        "        progress();\n",
        "        return Array.from(outTA);\n",
        "\n",
        "    }, [batch]); //#[ model.weights ]  #worker 1 would get model.weighst, worker 2 would get model.weights\n",
        "    \n",
        "    job.on('accepted', ()=>{\n",
        "        console.log('Job accepted...');\n",
        "    });\n",
        "    job.on('status', (status)=>{\n",
        "        console.log('Got a status update: ', status);\n",
        "    });\n",
        "    job.on('console', (output)=>{\n",
        "        console.log(output.message);\n",
        "    });\n",
        "    job.on('error', (err)=>{\n",
        "        console.log(err);\n",
        "    });\n",
        "    job.on('result', (value)=>{\n",
        "\n",
        "        results = results.concat(value.result);\n",
        "    });\n",
        "\n",
        "    job.public.name='mnist-vae';\n",
        "    job.requires('aistensorflow/tfjs');\n",
        "    job.requires('mnist_vae/tfjs_decoder');\n",
        "\n",
        "    //job.requirements.environment.offscreenCanvas = true;\n",
        "    console.log(\"Launching Job\");\n",
        "    try{\n",
        "        await job.exec(compute.marketValue, accountKeystore);\n",
        "    }catch(err){\n",
        "        console.log(err);\n",
        "        await job.cancel();\n",
        "        console.log(\"Job cancelled out\");\n",
        "    }\n",
        "    results = Float32Array.from(results)\n",
        "\n",
        "    results = buildDataArray(results, shape=[batch*numCompute.length,28,28, 1])\n",
        "    console.log(\"Done executing job\");\n",
        "})()"
      ],
      "execution_count": null,
      "outputs": [
        {
          "output_type": "stream",
          "text": [
            "Launching Job\n",
            "Job accepted...\n",
            "Got a status update:  { runStatus: 'SLOWWORK', total: 100, distributed: 0, computed: 0 }\n",
            "Got a status update:  { runStatus: 'SLOWWORK', total: 100, distributed: 1, computed: 0 }\n",
            "Got a status update:  { runStatus: 'SLOWWORK', total: 100, distributed: 2, computed: 0 }\n",
            "Got a status update:  { runStatus: 'SLOWWORK', total: 100, distributed: 3, computed: 0 }\n",
            "Got a status update:  { runStatus: 'SLOWWORK', total: 100, distributed: 4, computed: 0 }\n",
            "Got a status update:  { runStatus: 'SLOWWORK', total: 100, distributed: 5, computed: 0 }\n",
            "Got a status update:  { runStatus: 'SLOWWORK', total: 100, distributed: 6, computed: 0 }\n",
            "Got a status update:  { runStatus: 'SLOWWORK', total: 100, distributed: 7, computed: 0 }\n",
            "Got a status update:  { runStatus: 'SLOWWORK', total: 100, distributed: 8, computed: 0 }\n",
            "Got a status update:  { runStatus: 'SLOWWORK', total: 100, distributed: 9, computed: 0 }\n",
            "Got a status update:  { runStatus: 'SLOWWORK',\n",
            "total: 100,\n",
            "distributed: 10,\n",
            "computed: 0 }\n",
            "Got a status update:  { runStatus: 'SLOWWORK',\n",
            "total: 100,\n",
            "distributed: 11,\n",
            "computed: 0 }\n",
            "Got a status update:  { runStatus: 'SLOWWORK',\n",
            "total: 100,\n",
            "distributed: 12,\n",
            "computed: 0 }\n",
            "Got a status update:  { runStatus: 'SLOWWORK',\n",
            "total: 100,\n",
            "distributed: 13,\n",
            "computed: 0 }\n",
            "Got a status update:  { runStatus: 'SLOWWORK',\n",
            "total: 100,\n",
            "distributed: 14,\n",
            "computed: 0 }\n",
            "Got a status update:  { runStatus: 'SLOWWORK',\n",
            "total: 100,\n",
            "distributed: 15,\n",
            "computed: 0 }\n",
            "Got a status update:  { runStatus: 'SLOWWORK',\n",
            "total: 100,\n",
            "distributed: 15,\n",
            "computed: 1 }\n",
            "Got a status update:  { runStatus: 'SLOWWORK',\n",
            "total: 100,\n",
            "distributed: 15,\n",
            "computed: 2 }\n",
            "Got a status update:  { runStatus: 'SLOWWORK',\n",
            "total: 100,\n",
            "distributed: 15,\n",
            "computed: 3 }\n",
            "Got a status update:  { runStatus: 'SLOWWORK',\n",
            "total: 100,\n",
            "distributed: 16,\n",
            "computed: 3 }\n",
            "Got a status update:  { runStatus: 'SLOWWORK',\n",
            "total: 100,\n",
            "distributed: 17,\n",
            "computed: 3 }\n",
            "Got a status update:  { runStatus: 'SLOWWORK',\n",
            "total: 100,\n",
            "distributed: 17,\n",
            "computed: 4 }\n",
            "Got a status update:  { runStatus: 'SLOWWORK',\n",
            "total: 100,\n",
            "distributed: 18,\n",
            "computed: 4 }\n",
            "Got a status update:  { runStatus: 'SLOWWORK',\n",
            "total: 100,\n",
            "distributed: 19,\n",
            "computed: 4 }\n",
            "Got a status update:  { runStatus: 'SLOWWORK',\n",
            "total: 100,\n",
            "distributed: 20,\n",
            "computed: 4 }\n",
            "Got a status update:  { runStatus: 'SLOWWORK',\n",
            "total: 100,\n",
            "distributed: 21,\n",
            "computed: 4 }\n",
            "Got a status update:  { runStatus: 'SLOWWORK',\n",
            "total: 100,\n",
            "distributed: 22,\n",
            "computed: 4 }\n",
            "Got a status update:  { runStatus: 'SLOWWORK',\n",
            "total: 100,\n",
            "distributed: 23,\n",
            "computed: 4 }\n",
            "Got a status update:  { runStatus: 'SLOWWORK',\n",
            "total: 100,\n",
            "distributed: 23,\n",
            "computed: 5 }\n",
            "Got a status update:  { runStatus: 'SLOWWORK',\n",
            "total: 100,\n",
            "distributed: 23,\n",
            "computed: 6 }\n",
            "Got a status update:  { runStatus: 'SLOWWORK',\n",
            "total: 100,\n",
            "distributed: 23,\n",
            "computed: 7 }\n",
            "Got a status update:  { runStatus: 'SLOWWORK',\n",
            "total: 100,\n",
            "distributed: 23,\n",
            "computed: 8 }\n",
            "Got a status update:  { runStatus: 'SLOWWORK',\n",
            "total: 100,\n",
            "distributed: 23,\n",
            "computed: 9 }\n",
            "Got a status update:  { runStatus: 'SLOWWORK',\n",
            "total: 100,\n",
            "distributed: 23,\n",
            "computed: 10 }\n",
            "Got a status update:  { runStatus: 'SLOWWORK',\n",
            "total: 100,\n",
            "distributed: 23,\n",
            "computed: 11 }\n",
            "Got a status update:  { runStatus: 'SLOWWORK',\n",
            "total: 100,\n",
            "distributed: 23,\n",
            "computed: 12 }\n",
            "Got a status update:  { runStatus: 'SLOWWORK',\n",
            "total: 100,\n",
            "distributed: 24,\n",
            "computed: 12 }\n",
            "Got a status update:  { runStatus: 'SLOWWORK',\n",
            "total: 100,\n",
            "distributed: 24,\n",
            "computed: 13 }\n",
            "Got a status update:  { runStatus: 'SLOWWORK',\n",
            "total: 100,\n",
            "distributed: 25,\n",
            "computed: 13 }\n",
            "Got a status update:  { runStatus: 'SLOWWORK',\n",
            "total: 100,\n",
            "distributed: 26,\n",
            "computed: 13 }\n",
            "Got a status update:  { runStatus: 'SLOWWORK',\n",
            "total: 100,\n",
            "distributed: 26,\n",
            "computed: 14 }\n",
            "Got a status update:  { runStatus: 'SLOWWORK',\n",
            "total: 100,\n",
            "distributed: 27,\n",
            "computed: 14 }\n",
            "Got a status update:  { runStatus: 'SLOWWORK',\n",
            "total: 100,\n",
            "distributed: 28,\n",
            "computed: 14 }\n",
            "Got a status update:  { runStatus: 'SLOWWORK',\n",
            "total: 100,\n",
            "distributed: 29,\n",
            "computed: 14 }\n",
            "Got a status update:  { runStatus: 'SLOWWORK',\n",
            "total: 100,\n",
            "distributed: 30,\n",
            "computed: 14 }\n",
            "Got a status update:  { runStatus: 'SLOWWORK',\n",
            "total: 100,\n",
            "distributed: 30,\n",
            "computed: 15 }\n",
            "Got a status update:  { runStatus: 'SLOWWORK',\n",
            "total: 100,\n",
            "distributed: 30,\n",
            "computed: 16 }\n",
            "Got a status update:  { runStatus: 'SLOWWORK',\n",
            "total: 100,\n",
            "distributed: 30,\n",
            "computed: 17 }\n",
            "Got a status update:  { runStatus: 'SLOWWORK',\n",
            "total: 100,\n",
            "distributed: 30,\n",
            "computed: 18 }\n",
            "Got a status update:  { runStatus: 'SLOWWORK',\n",
            "total: 100,\n",
            "distributed: 30,\n",
            "computed: 19 }\n",
            "Got a status update:  { runStatus: 'SLOWWORK',\n",
            "total: 100,\n",
            "distributed: 30,\n",
            "computed: 20 }\n",
            "Got a status update:  { runStatus: 'SLOWWORK',\n",
            "total: 100,\n",
            "distributed: 31,\n",
            "computed: 20 }\n",
            "Got a status update:  { runStatus: 'SLOWWORK',\n",
            "total: 100,\n",
            "distributed: 32,\n",
            "computed: 20 }\n",
            "Got a status update:  { runStatus: 'SLOWWORK',\n",
            "total: 100,\n",
            "distributed: 33,\n",
            "computed: 20 }\n",
            "Got a status update:  { runStatus: 'SLOWWORK',\n",
            "total: 100,\n",
            "distributed: 34,\n",
            "computed: 20 }\n",
            "Got a status update:  { runStatus: 'SLOWWORK',\n",
            "total: 100,\n",
            "distributed: 34,\n",
            "computed: 23 }\n",
            "Got a status update:  { runStatus: 'SLOWWORK',\n",
            "total: 100,\n",
            "distributed: 34,\n",
            "computed: 23 }\n",
            "Got a status update:  { runStatus: 'SLOWWORK',\n",
            "total: 100,\n",
            "distributed: 34,\n",
            "computed: 23 }\n",
            "Got a status update:  { runStatus: 'SLOWWORK',\n",
            "total: 100,\n",
            "distributed: 35,\n",
            "computed: 23 }\n",
            "Got a status update:  { runStatus: 'SLOWWORK',\n",
            "total: 100,\n",
            "distributed: 36,\n",
            "computed: 23 }\n",
            "Got a status update:  { runStatus: 'SLOWWORK',\n",
            "total: 100,\n",
            "distributed: 37,\n",
            "computed: 23 }\n",
            "Got a status update:  { runStatus: 'SLOWWORK',\n",
            "total: 100,\n",
            "distributed: 37,\n",
            "computed: 24 }\n",
            "Got a status update:  { runStatus: 'SLOWWORK',\n",
            "total: 100,\n",
            "distributed: 37,\n",
            "computed: 25 }\n",
            "Got a status update:  { runStatus: 'SLOWWORK',\n",
            "total: 100,\n",
            "distributed: 38,\n",
            "computed: 25 }\n",
            "Got a status update:  { runStatus: 'SLOWWORK',\n",
            "total: 100,\n",
            "distributed: 38,\n",
            "computed: 26 }\n",
            "Got a status update:  { runStatus: 'SLOWWORK',\n",
            "total: 100,\n",
            "distributed: 39,\n",
            "computed: 26 }\n",
            "Got a status update:  { runStatus: 'SLOWWORK',\n",
            "total: 100,\n",
            "distributed: 40,\n",
            "computed: 26 }\n",
            "Got a status update:  { runStatus: 'SLOWWORK',\n",
            "total: 100,\n",
            "distributed: 41,\n",
            "computed: 26 }\n",
            "Got a status update:  { runStatus: 'SLOWWORK',\n",
            "total: 100,\n",
            "distributed: 42,\n",
            "computed: 26 }\n",
            "Got a status update:  { runStatus: 'SLOWWORK',\n",
            "total: 100,\n",
            "distributed: 43,\n",
            "computed: 26 }\n",
            "Got a status update:  { runStatus: 'SLOWWORK',\n",
            "total: 100,\n",
            "distributed: 44,\n",
            "computed: 26 }\n",
            "Got a status update:  { runStatus: 'SLOWWORK',\n",
            "total: 100,\n",
            "distributed: 45,\n",
            "computed: 26 }\n",
            "Got a status update:  { runStatus: 'SLOWWORK',\n",
            "total: 100,\n",
            "distributed: 45,\n",
            "computed: 27 }\n",
            "Got a status update:  { runStatus: 'SLOWWORK',\n",
            "total: 100,\n",
            "distributed: 45,\n",
            "computed: 28 }\n",
            "Got a status update:  { runStatus: 'SLOWWORK',\n",
            "total: 100,\n",
            "distributed: 45,\n",
            "computed: 29 }\n",
            "Got a status update:  { runStatus: 'SLOWWORK',\n",
            "total: 100,\n",
            "distributed: 45,\n",
            "computed: 30 }\n",
            "Got a status update:  { runStatus: 'SLOWWORK',\n",
            "total: 100,\n",
            "distributed: 46,\n",
            "computed: 30 }\n",
            "Got a status update:  { runStatus: 'SLOWWORK',\n",
            "total: 100,\n",
            "distributed: 47,\n",
            "computed: 30 }\n",
            "Got a status update:  { runStatus: 'SLOWWORK',\n",
            "total: 100,\n",
            "distributed: 48,\n",
            "computed: 30 }\n",
            "Got a status update:  { runStatus: 'SLOWWORK',\n",
            "total: 100,\n",
            "distributed: 49,\n",
            "computed: 30 }\n",
            "Got a status update:  { runStatus: 'SLOWWORK',\n",
            "total: 100,\n",
            "distributed: 50,\n",
            "computed: 30 }\n",
            "Got a status update:  { runStatus: 'SLOWWORK',\n",
            "total: 100,\n",
            "distributed: 50,\n",
            "computed: 34 }\n",
            "Got a status update:  { runStatus: 'SLOWWORK',\n",
            "total: 100,\n",
            "distributed: 50,\n",
            "computed: 34 }\n",
            "Got a status update:  { runStatus: 'SLOWWORK',\n",
            "total: 100,\n",
            "distributed: 50,\n",
            "computed: 34 }\n",
            "Got a status update:  { runStatus: 'SLOWWORK',\n",
            "total: 100,\n",
            "distributed: 50,\n",
            "computed: 34 }\n",
            "Got a status update:  { runStatus: 'SLOWWORK',\n",
            "total: 100,\n",
            "distributed: 51,\n",
            "computed: 34 }\n",
            "Got a status update:  { runStatus: 'SLOWWORK',\n",
            "total: 100,\n",
            "distributed: 52,\n",
            "computed: 34 }\n",
            "Got a status update:  { runStatus: 'SLOWWORK',\n",
            "total: 100,\n",
            "distributed: 52,\n",
            "computed: 35 }\n",
            "Got a status update:  { runStatus: 'SLOWWORK',\n",
            "total: 100,\n",
            "distributed: 52,\n",
            "computed: 36 }\n",
            "Got a status update:  { runStatus: 'SLOWWORK',\n",
            "total: 100,\n",
            "distributed: 52,\n",
            "computed: 37 }\n",
            "Got a status update:  { runStatus: 'SLOWWORK',\n",
            "total: 100,\n",
            "distributed: 52,\n",
            "computed: 38 }\n",
            "Got a status update:  { runStatus: 'SLOWWORK',\n",
            "total: 100,\n",
            "distributed: 52,\n",
            "computed: 39 }\n",
            "Got a status update:  { runStatus: 'SLOWWORK',\n",
            "total: 100,\n",
            "distributed: 52,\n",
            "computed: 41 }\n",
            "Got a status update:  { runStatus: 'SLOWWORK',\n",
            "total: 100,\n",
            "distributed: 52,\n",
            "computed: 41 }\n",
            "Got a status update:  { runStatus: 'SLOWWORK',\n",
            "total: 100,\n",
            "distributed: 52,\n",
            "computed: 42 }\n",
            "Got a status update:  { runStatus: 'SLOWWORK',\n",
            "total: 100,\n",
            "distributed: 53,\n",
            "computed: 42 }\n",
            "Got a status update:  { runStatus: 'SLOWWORK',\n",
            "total: 100,\n",
            "distributed: 54,\n",
            "computed: 42 }\n",
            "Got a status update:  { runStatus: 'SLOWWORK',\n",
            "total: 100,\n",
            "distributed: 55,\n",
            "computed: 42 }\n",
            "Got a status update:  { runStatus: 'SLOWWORK',\n",
            "total: 100,\n",
            "distributed: 56,\n",
            "computed: 42 }\n",
            "Got a status update:  { runStatus: 'SLOWWORK',\n",
            "total: 100,\n",
            "distributed: 57,\n",
            "computed: 42 }\n",
            "Got a status update:  { runStatus: 'SLOWWORK',\n",
            "total: 100,\n",
            "distributed: 58,\n",
            "computed: 42 }\n",
            "Got a status update:  { runStatus: 'SLOWWORK',\n",
            "total: 100,\n",
            "distributed: 59,\n",
            "computed: 42 }\n",
            "Got a status update:  { runStatus: 'SLOWWORK',\n",
            "total: 100,\n",
            "distributed: 59,\n",
            "computed: 43 }\n",
            "Got a status update:  { runStatus: 'SLOWWORK',\n",
            "total: 100,\n",
            "distributed: 59,\n",
            "computed: 44 }\n",
            "Got a status update:  { runStatus: 'SLOWWORK',\n",
            "total: 100,\n",
            "distributed: 59,\n",
            "computed: 45 }\n",
            "Got a status update:  { runStatus: 'SLOWWORK',\n",
            "total: 100,\n",
            "distributed: 59,\n",
            "computed: 48 }\n",
            "Got a status update:  { runStatus: 'SLOWWORK',\n",
            "total: 100,\n",
            "distributed: 59,\n",
            "computed: 48 }\n",
            "Got a status update:  { runStatus: 'SLOWWORK',\n",
            "total: 100,\n",
            "distributed: 59,\n",
            "computed: 48 }\n",
            "Got a status update:  { runStatus: 'SLOWWORK',\n",
            "total: 100,\n",
            "distributed: 59,\n",
            "computed: 49 }\n",
            "Got a status update:  { runStatus: 'SLOWWORK',\n",
            "total: 100,\n",
            "distributed: 60,\n",
            "computed: 49 }\n",
            "Got a status update:  { runStatus: 'SLOWWORK',\n",
            "total: 100,\n",
            "distributed: 61,\n",
            "computed: 49 }\n",
            "Got a status update:  { runStatus: 'SLOWWORK',\n",
            "total: 100,\n",
            "distributed: 62,\n",
            "computed: 49 }\n",
            "Got a status update:  { runStatus: 'SLOWWORK',\n",
            "total: 100,\n",
            "distributed: 63,\n",
            "computed: 49 }\n",
            "Got a status update:  { runStatus: 'SLOWWORK',\n",
            "total: 100,\n",
            "distributed: 64,\n",
            "computed: 49 }\n",
            "Got a status update:  { runStatus: 'SLOWWORK',\n",
            "total: 100,\n",
            "distributed: 65,\n",
            "computed: 49 }\n",
            "Got a status update:  { runStatus: 'SLOWWORK',\n",
            "total: 100,\n",
            "distributed: 66,\n",
            "computed: 49 }\n",
            "Got a status update:  { runStatus: 'SLOWWORK',\n",
            "total: 100,\n",
            "distributed: 67,\n",
            "computed: 49 }\n",
            "Got a status update:  { runStatus: 'SLOWWORK',\n",
            "total: 100,\n",
            "distributed: 67,\n",
            "computed: 50 }\n",
            "Got a status update:  { runStatus: 'SLOWWORK',\n",
            "total: 100,\n",
            "distributed: 67,\n",
            "computed: 51 }\n",
            "Got a status update:  { runStatus: 'SLOWWORK',\n",
            "total: 100,\n",
            "distributed: 67,\n",
            "computed: 52 }\n",
            "Got a status update:  { runStatus: 'SLOWWORK',\n",
            "total: 100,\n",
            "distributed: 67,\n",
            "computed: 53 }\n",
            "Got a status update:  { runStatus: 'SLOWWORK',\n",
            "total: 100,\n",
            "distributed: 67,\n",
            "computed: 55 }\n",
            "Got a status update:  { runStatus: 'SLOWWORK',\n",
            "total: 100,\n",
            "distributed: 67,\n",
            "computed: 55 }\n",
            "Got a status update:  { runStatus: 'SLOWWORK',\n",
            "total: 100,\n",
            "distributed: 67,\n",
            "computed: 56 }\n",
            "Got a status update:  { runStatus: 'SLOWWORK',\n",
            "total: 100,\n",
            "distributed: 68,\n",
            "computed: 56 }\n",
            "Got a status update:  { runStatus: 'SLOWWORK',\n",
            "total: 100,\n",
            "distributed: 69,\n",
            "computed: 56 }\n",
            "Got a status update:  { runStatus: 'SLOWWORK',\n",
            "total: 100,\n",
            "distributed: 70,\n",
            "computed: 56 }\n",
            "Got a status update:  { runStatus: 'SLOWWORK',\n",
            "total: 100,\n",
            "distributed: 71,\n",
            "computed: 56 }\n",
            "Got a status update:  { runStatus: 'SLOWWORK',\n",
            "total: 100,\n",
            "distributed: 72,\n",
            "computed: 56 }\n",
            "Got a status update:  { runStatus: 'SLOWWORK',\n",
            "total: 100,\n",
            "distributed: 73,\n",
            "computed: 56 }\n",
            "Got a status update:  { runStatus: 'SLOWWORK',\n",
            "total: 100,\n",
            "distributed: 74,\n",
            "computed: 56 }\n",
            "Got a status update:  { runStatus: 'SLOWWORK',\n",
            "total: 100,\n",
            "distributed: 74,\n",
            "computed: 57 }\n",
            "Got a status update:  { runStatus: 'SLOWWORK',\n",
            "total: 100,\n",
            "distributed: 74,\n",
            "computed: 58 }\n",
            "Got a status update:  { runStatus: 'SLOWWORK',\n",
            "total: 100,\n",
            "distributed: 74,\n",
            "computed: 59 }\n",
            "Got a status update:  { runStatus: 'SLOWWORK',\n",
            "total: 100,\n",
            "distributed: 74,\n",
            "computed: 60 }\n",
            "Got a status update:  { runStatus: 'SLOWWORK',\n",
            "total: 100,\n",
            "distributed: 74,\n",
            "computed: 61 }\n",
            "Got a status update:  { runStatus: 'SLOWWORK',\n",
            "total: 100,\n",
            "distributed: 74,\n",
            "computed: 62 }\n",
            "Got a status update:  { runStatus: 'SLOWWORK',\n",
            "total: 100,\n",
            "distributed: 74,\n",
            "computed: 63 }\n",
            "Got a status update:  { runStatus: 'SLOWWORK',\n",
            "total: 100,\n",
            "distributed: 75,\n",
            "computed: 63 }\n",
            "Got a status update:  { runStatus: 'SLOWWORK',\n",
            "total: 100,\n",
            "distributed: 76,\n",
            "computed: 63 }\n",
            "Got a status update:  { runStatus: 'SLOWWORK',\n",
            "total: 100,\n",
            "distributed: 77,\n",
            "computed: 63 }\n",
            "Got a status update:  { runStatus: 'SLOWWORK',\n",
            "total: 100,\n",
            "distributed: 78,\n",
            "computed: 63 }\n",
            "Got a status update:  { runStatus: 'SLOWWORK',\n",
            "total: 100,\n",
            "distributed: 79,\n",
            "computed: 63 }\n",
            "Got a status update:  { runStatus: 'SLOWWORK',\n",
            "total: 100,\n",
            "distributed: 80,\n",
            "computed: 63 }\n",
            "Got a status update:  { runStatus: 'SLOWWORK',\n",
            "total: 100,\n",
            "distributed: 81,\n",
            "computed: 63 }\n",
            "Got a status update:  { runStatus: 'SLOWWORK',\n",
            "total: 100,\n",
            "distributed: 81,\n",
            "computed: 64 }\n",
            "Got a status update:  { runStatus: 'SLOWWORK',\n",
            "total: 100,\n",
            "distributed: 81,\n",
            "computed: 65 }\n",
            "Got a status update:  { runStatus: 'SLOWWORK',\n",
            "total: 100,\n",
            "distributed: 81,\n",
            "computed: 66 }\n",
            "Got a status update:  { runStatus: 'SLOWWORK',\n",
            "total: 100,\n",
            "distributed: 81,\n",
            "computed: 68 }\n",
            "Got a status update:  { runStatus: 'SLOWWORK',\n",
            "total: 100,\n",
            "distributed: 81,\n",
            "computed: 68 }\n",
            "Got a status update:  { runStatus: 'SLOWWORK',\n",
            "total: 100,\n",
            "distributed: 81,\n",
            "computed: 69 }\n",
            "Got a status update:  { runStatus: 'SLOWWORK',\n",
            "total: 100,\n",
            "distributed: 81,\n",
            "computed: 70 }\n",
            "Got a status update:  { runStatus: 'SLOWWORK',\n",
            "total: 100,\n",
            "distributed: 81,\n",
            "computed: 71 }\n",
            "Got a status update:  { runStatus: 'SLOWWORK',\n",
            "total: 100,\n",
            "distributed: 82,\n",
            "computed: 71 }\n",
            "Got a status update:  { runStatus: 'SLOWWORK',\n",
            "total: 100,\n",
            "distributed: 83,\n",
            "computed: 71 }\n",
            "Got a status update:  { runStatus: 'SLOWWORK',\n",
            "total: 100,\n",
            "distributed: 84,\n",
            "computed: 71 }\n",
            "Got a status update:  { runStatus: 'SLOWWORK',\n",
            "total: 100,\n",
            "distributed: 85,\n",
            "computed: 71 }\n",
            "Got a status update:  { runStatus: 'SLOWWORK',\n",
            "total: 100,\n",
            "distributed: 86,\n",
            "computed: 71 }\n",
            "Got a status update:  { runStatus: 'SLOWWORK',\n",
            "total: 100,\n",
            "distributed: 87,\n",
            "computed: 71 }\n",
            "Got a status update:  { runStatus: 'SLOWWORK',\n",
            "total: 100,\n",
            "distributed: 88,\n",
            "computed: 71 }\n",
            "Got a status update:  { runStatus: 'SLOWWORK',\n",
            "total: 100,\n",
            "distributed: 89,\n",
            "computed: 71 }\n",
            "Got a status update:  { runStatus: 'SLOWWORK',\n",
            "total: 100,\n",
            "distributed: 89,\n",
            "computed: 72 }\n",
            "Got a status update:  { runStatus: 'SLOWWORK',\n",
            "total: 100,\n",
            "distributed: 89,\n",
            "computed: 73 }\n",
            "Got a status update:  { runStatus: 'SLOWWORK',\n",
            "total: 100,\n",
            "distributed: 89,\n",
            "computed: 74 }\n",
            "Got a status update:  { runStatus: 'SLOWWORK',\n",
            "total: 100,\n",
            "distributed: 89,\n",
            "computed: 76 }\n",
            "Got a status update:  { runStatus: 'SLOWWORK',\n",
            "total: 100,\n",
            "distributed: 89,\n",
            "computed: 76 }\n",
            "Got a status update:  { runStatus: 'SLOWWORK',\n",
            "total: 100,\n",
            "distributed: 89,\n",
            "computed: 77 }\n",
            "Got a status update:  { runStatus: 'SLOWWORK',\n",
            "total: 100,\n",
            "distributed: 89,\n",
            "computed: 78 }\n",
            "Got a status update:  { runStatus: 'SLOWWORK',\n",
            "total: 100,\n",
            "distributed: 90,\n",
            "computed: 78 }\n",
            "Got a status update:  { runStatus: 'SLOWWORK',\n",
            "total: 100,\n",
            "distributed: 91,\n",
            "computed: 78 }\n",
            "Got a status update:  { runStatus: 'SLOWWORK',\n",
            "total: 100,\n",
            "distributed: 92,\n",
            "computed: 78 }\n",
            "Got a status update:  { runStatus: 'SLOWWORK',\n",
            "total: 100,\n",
            "distributed: 93,\n",
            "computed: 78 }\n",
            "Got a status update:  { runStatus: 'SLOWWORK',\n",
            "total: 100,\n",
            "distributed: 94,\n",
            "computed: 78 }\n",
            "Got a status update:  { runStatus: 'SLOWWORK',\n",
            "total: 100,\n",
            "distributed: 95,\n",
            "computed: 78 }\n",
            "Got a status update:  { runStatus: 'SLOWWORK',\n",
            "total: 100,\n",
            "distributed: 96,\n",
            "computed: 78 }\n",
            "Got a status update:  { runStatus: 'SLOWWORK',\n",
            "total: 100,\n",
            "distributed: 96,\n",
            "computed: 79 }\n",
            "Got a status update:  { runStatus: 'SLOWWORK',\n",
            "total: 100,\n",
            "distributed: 96,\n",
            "computed: 80 }\n",
            "Got a status update:  { runStatus: 'SLOWWORK',\n",
            "total: 100,\n",
            "distributed: 96,\n",
            "computed: 81 }\n",
            "Got a status update:  { runStatus: 'SLOWWORK',\n",
            "total: 100,\n",
            "distributed: 96,\n",
            "computed: 82 }\n",
            "Got a status update:  { runStatus: 'SLOWWORK',\n",
            "total: 100,\n",
            "distributed: 96,\n",
            "computed: 83 }\n",
            "Got a status update:  { runStatus: 'SLOWWORK',\n",
            "total: 100,\n",
            "distributed: 96,\n",
            "computed: 85 }\n",
            "Got a status update:  { runStatus: 'SLOWWORK',\n",
            "total: 100,\n",
            "distributed: 96,\n",
            "computed: 85 }\n",
            "Got a status update:  { runStatus: 'SLOWWORK',\n",
            "total: 100,\n",
            "distributed: 97,\n",
            "computed: 85 }\n",
            "Got a status update:  { runStatus: 'SLOWWORK',\n",
            "total: 100,\n",
            "distributed: 98,\n",
            "computed: 85 }\n",
            "Got a status update:  { runStatus: 'SLOWWORK',\n",
            "total: 100,\n",
            "distributed: 99,\n",
            "computed: 85 }\n",
            "Got a status update:  { runStatus: 'SLOWWORK',\n",
            "total: 100,\n",
            "distributed: 100,\n",
            "computed: 85 }\n",
            "Got a status update:  { runStatus: 'WAITING',\n",
            "total: 100,\n",
            "distributed: 100,\n",
            "computed: 86 }\n",
            "Got a status update:  { runStatus: 'WAITING',\n",
            "total: 100,\n",
            "distributed: 100,\n",
            "computed: 87 }\n",
            "Got a status update:  { runStatus: 'WAITING',\n",
            "total: 100,\n",
            "distributed: 100,\n",
            "computed: 88 }\n",
            "Got a status update:  { runStatus: 'WAITING',\n",
            "total: 100,\n",
            "distributed: 100,\n",
            "computed: 90 }\n",
            "Got a status update:  { runStatus: 'WAITING',\n",
            "total: 100,\n",
            "distributed: 100,\n",
            "computed: 90 }\n",
            "Got a status update:  { runStatus: 'WAITING',\n",
            "total: 100,\n",
            "distributed: 100,\n",
            "computed: 92 }\n",
            "Got a status update:  { runStatus: 'WAITING',\n",
            "total: 100,\n",
            "distributed: 100,\n",
            "computed: 92 }\n",
            "Got a status update:  { runStatus: 'WAITING',\n",
            "total: 100,\n",
            "distributed: 100,\n",
            "computed: 93 }\n",
            "Got a status update:  { runStatus: 'WAITING',\n",
            "total: 100,\n",
            "distributed: 100,\n",
            "computed: 94 }\n",
            "Got a status update:  { runStatus: 'WAITING',\n",
            "total: 100,\n",
            "distributed: 100,\n",
            "computed: 95 }\n",
            "Got a status update:  { runStatus: 'WAITING',\n",
            "total: 100,\n",
            "distributed: 100,\n",
            "computed: 96 }\n",
            "Got a status update:  { runStatus: 'WAITING',\n",
            "total: 100,\n",
            "distributed: 100,\n",
            "computed: 97 }\n",
            "Got a status update:  { runStatus: 'WAITING',\n",
            "total: 100,\n",
            "distributed: 100,\n",
            "computed: 99 }\n",
            "Got a status update:  { runStatus: 'WAITING',\n",
            "total: 100,\n",
            "distributed: 100,\n",
            "computed: 99 }\n",
            "Got a status update:  { runStatus: 'WAITING',\n",
            "total: 100,\n",
            "distributed: 100,\n",
            "computed: 100 }\n",
            "Done executing job\n"
          ],
          "name": "stdout"
        }
      ]
    },
    {
      "cell_type": "code",
      "metadata": {
        "id": "jAKm1V_3IQUq",
        "colab": {
          "base_uri": "https://localhost:8080/",
          "height": 265
        },
        "outputId": "4493c00e-eb81-4e3d-eac7-2ee98568771e"
      },
      "source": [
        "plt.imshow( results[ np.random.randint(0, results.shape[0] )][...,0] )\n",
        "plt.show()"
      ],
      "execution_count": null,
      "outputs": [
        {
          "output_type": "display_data",
          "data": {
            "image/png": "[encoded data removed]",
            "text/plain": [
              "<Figure size 432x288 with 1 Axes>"
            ]
          },
          "metadata": {
            "tags": [],
            "needs_background": "light"
          }
        }
      ]
    },
    {
      "cell_type": "code",
      "metadata": {
        "id": "OOwNqNgBI4PU",
        "colab": {
          "base_uri": "https://localhost:8080/"
        },
        "outputId": "1f19d4bd-a305-453a-a417-1d6d146ed204"
      },
      "source": [
        "print(results.shape)"
      ],
      "execution_count": null,
      "outputs": [
        {
          "output_type": "stream",
          "text": [
            "(3100, 28, 28, 1)\n"
          ],
          "name": "stdout"
        }
      ]
    },
    {
      "cell_type": "code",
      "metadata": {
        "id": "7lyNucf_GYvE"
      },
      "source": [
        ""
      ],
      "execution_count": null,
      "outputs": []
    }
  ]
}